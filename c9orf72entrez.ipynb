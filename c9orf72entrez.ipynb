{
 "cells": [
  {
   "cell_type": "markdown",
   "id": "6f259b77-98e1-4ef9-ab97-16894834d28f",
   "metadata": {},
   "source": [
    "The following retrieves FASTA-format sequences for a given set of accession numbers in GI format."
   ]
  },
  {
   "cell_type": "code",
   "execution_count": 1,
   "id": "c87f7f71-c186-4bba-acb7-c64dcbc90ef9",
   "metadata": {},
   "outputs": [],
   "source": [
    "# import the package\n",
    "from Bio import Entrez\n",
    "# always give the NCBI your email address\n",
    "Entrez.email = \"bleseapringle@gradcenter.cuny.edu\"\n",
    "# Want to get the FASTA sequences for the homologs\n",
    "# Already have homolog list; must use GI numbers as search term for the protein database per the Entrez eUtilities documentation\n",
    "handle = Entrez.esearch(db = \"protein\", term = (\"37039612 124486791 664720500 134085369 847087507 45387633 50417271 17533301 330803495\"))"
   ]
  },
  {
   "cell_type": "code",
   "execution_count": 2,
   "id": "93c4b471-8cdf-4044-b240-f6bc8250b489",
   "metadata": {},
   "outputs": [
    {
     "data": {
      "text/plain": [
       "dict_keys(['Count', 'RetMax', 'RetStart', 'IdList', 'TranslationSet', 'QueryTranslation'])"
      ]
     },
     "execution_count": 2,
     "metadata": {},
     "output_type": "execute_result"
    }
   ],
   "source": [
    "record = Entrez.read(handle)\n",
    "handle.close()\n",
    "# record is a dictionary, we can look at the keys\n",
    "record.keys()"
   ]
  },
  {
   "cell_type": "markdown",
   "id": "db319b23-6a6d-4292-8e3b-4f270708fb43",
   "metadata": {},
   "source": [
    "The Entrez.read parser breaks the retrieved XML data down into individual parts,\n",
    "and transforms them into Python objects that can be accessed individually. Let’s see how\n",
    "many sequences are available in the nucleotide database for our search term, and access the\n",
    "record IDs (note that NCBI returns only 20 IDs by default to keep traffic on its server low;\n",
    "if you need all IDs, call Entrez.esearch again and set retmax to the maximum number of\n",
    "IDs, here, 126):"
   ]
  },
  {
   "cell_type": "code",
   "execution_count": 3,
   "id": "8989e11b-fce2-4a44-b078-41efadb9e086",
   "metadata": {},
   "outputs": [
    {
     "name": "stdout",
     "output_type": "stream",
     "text": [
      "{'Count': '8', 'RetMax': '8', 'RetStart': '0', 'IdList': ['37039612', '124486791', '664720500', '847087507', '45387633', '50417271', '17533301', '330803495'], 'TranslationSet': [], 'QueryTranslation': ''}\n",
      "['37039612', '124486791', '664720500', '847087507', '45387633', '50417271', '17533301', '330803495']\n"
     ]
    }
   ],
   "source": [
    "record[\"Count\"]\n",
    "print(record)\n",
    "# retrieve list of genebank identifiers\n",
    "id_list = record[\"IdList\"]\n",
    "print(id_list)"
   ]
  },
  {
   "cell_type": "code",
   "execution_count": 4,
   "id": "3bb1998a-c82f-44c7-abd0-9039e88374f1",
   "metadata": {},
   "outputs": [],
   "source": [
    "# data using Entrez.fetch. We retrieve the first ten sequences in fasta format \n",
    "# and save them to a file:\n",
    "Entrez.email = \"bleseapringle@gradcenter.cuny.edu\"\n",
    "handle = Entrez.efetch(db = \"protein\", rettype = \"fasta\", retmode = \"text\", id = \"37039612 124486791 664720500 134085369 847087507 45387633 50417271 17533301 330803495\")\n",
    "# set up a handle to an output file\n",
    "out_handle = open(\"c9orf72_homologs.fasta\", \"w\")\n",
    "# write obtained seq data to file\n",
    "for line in handle:\n",
    "    out_handle.write(line)\n",
    "out_handle.close()\n",
    "handle.close()\n",
    "        "
   ]
  },
  {
   "cell_type": "markdown",
   "id": "1ae5fd7e-da6e-48f1-b6f3-0b22f603babe",
   "metadata": {},
   "source": [
    "4.3.2 Input and output of sequence data using SeqIO\n",
    "Next, we use the module SeqIO to manipulate our sequences and obtain more information\n",
    "about our U. investigator results:"
   ]
  },
  {
   "cell_type": "code",
   "execution_count": 5,
   "id": "499f0370-69b0-4c74-b3a6-77066a2c4f6d",
   "metadata": {},
   "outputs": [
    {
     "name": "stdout",
     "output_type": "stream",
     "text": [
      "NP_060795.1 guanine nucleotide exchange factor C9orf72 isoform a [Homo sapiens]\n",
      "481\n",
      "NP_001074812.1 guanine nucleotide exchange factor C9orf72 homolog isoform 1 [Mus musculus]\n",
      "481\n",
      "XP_008517285.1 PREDICTED: protein C9orf72 homolog isoform X1 [Equus przewalskii]\n",
      "481\n",
      "XP_012817590.1 guanine nucleotide exchange C9orf72 homolog isoform X1 [Xenopus tropicalis]\n",
      "461\n",
      "NP_991166.1 guanine nucleotide exchange C9orf72 homolog [Danio rerio]\n",
      "462\n",
      "AAH77130.1 Zgc:100846 protein [Danio rerio]\n",
      "326\n",
      "NP_495604.1 ALS/FTD Associated gene homolog [Caenorhabditis elegans]\n",
      "731\n",
      "XP_003289741.1 uncharacterized protein DICPUDRAFT_80518, partial [Dictyostelium purpureum]\n",
      "295\n"
     ]
    }
   ],
   "source": [
    "from Bio import SeqIO\n",
    "handle = open(\"c9orf72_homologs.fasta\", \"r\")\n",
    "# print ID and seq length\n",
    "for record in SeqIO.parse(handle, \"fasta\"):\n",
    "    print(record.description)\n",
    "    print(len(record))\n",
    "handle.close()"
   ]
  },
  {
   "cell_type": "code",
   "execution_count": null,
   "id": "a0b485bf-fbeb-4e8e-9374-24b46586c5e9",
   "metadata": {},
   "outputs": [],
   "source": []
  },
  {
   "cell_type": "code",
   "execution_count": null,
   "id": "b38f52f8-e0b8-4a89-9365-982db1d73088",
   "metadata": {},
   "outputs": [],
   "source": []
  }
 ],
 "metadata": {
  "kernelspec": {
   "display_name": "Python 3 (ipykernel)",
   "language": "python",
   "name": "python3"
  },
  "language_info": {
   "codemirror_mode": {
    "name": "ipython",
    "version": 3
   },
   "file_extension": ".py",
   "mimetype": "text/x-python",
   "name": "python",
   "nbconvert_exporter": "python",
   "pygments_lexer": "ipython3",
   "version": "3.11.5"
  }
 },
 "nbformat": 4,
 "nbformat_minor": 5
}

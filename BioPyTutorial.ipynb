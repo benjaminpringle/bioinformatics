{
 "cells": [
  {
   "cell_type": "code",
   "execution_count": 19,
   "id": "c87f7f71-c186-4bba-acb7-c64dcbc90ef9",
   "metadata": {},
   "outputs": [],
   "source": [
    "# import the package\n",
    "from Bio import Entrez\n",
    "\n",
    "# always give the NCBI your email address\n",
    "Entrez.email = \"bleseapringle@gradcenter.cuny.edu\"\n",
    "handle = Entrez.esearch(db = \"nuccore\", term = (\"Mus musculus[Organism]\"), retmax = 500)"
   ]
  },
  {
   "cell_type": "code",
   "execution_count": 20,
   "id": "93c4b471-8cdf-4044-b240-f6bc8250b489",
   "metadata": {},
   "outputs": [
    {
     "data": {
      "text/plain": [
       "dict_keys(['Count', 'RetMax', 'RetStart', 'IdList', 'TranslationSet', 'TranslationStack', 'QueryTranslation'])"
      ]
     },
     "execution_count": 20,
     "metadata": {},
     "output_type": "execute_result"
    }
   ],
   "source": [
    "record = Entrez.read(handle)\n",
    "handle.close()\n",
    "# record is a dictionary, we can look at the keys\n",
    "record.keys()"
   ]
  },
  {
   "cell_type": "markdown",
   "id": "db319b23-6a6d-4292-8e3b-4f270708fb43",
   "metadata": {},
   "source": [
    "The Entrez.read parser breaks the retrieved XML data down into individual parts,\n",
    "and transforms them into Python objects that can be accessed individually. Let’s see how\n",
    "many sequences are available in the nucleotide database for our search term, and access the\n",
    "record IDs (note that NCBI returns only 20 IDs by default to keep traffic on its server low;\n",
    "if you need all IDs, call Entrez.esearch again and set retmax to the maximum number of\n",
    "IDs, here, 126):"
   ]
  },
  {
   "cell_type": "code",
   "execution_count": 21,
   "id": "8989e11b-fce2-4a44-b078-41efadb9e086",
   "metadata": {},
   "outputs": [
    {
     "name": "stdout",
     "output_type": "stream",
     "text": [
      "{'Count': '11125642', 'RetMax': '500', 'RetStart': '0', 'IdList': ['2701800492', '2701800491', '2701800490', '2701800486', '2701800484', '2701800482', '2701800481', '2701800479', '2701800478', '2701800475', '2701800474', '2701800473', '2701800472', '2701800469', '2701800466', '2701800463', '2701800462', '2701800461', '2701800459', '2701800458', '2701800457', '2701800455', '2701800454', '2701800453', '2701800452', '2701800450', '2701800448', '2701800447', '2701800446', '2701800444', '2701800443', '2701800442', '2701800440', '2701800438', '2701800437', '2701800434', '2701800431', '2701800428', '2701800427', '2701800426', '2701800423', '2701800421', '2701800417', '2701800416', '2701800415', '2701800414', '2701800413', '2701800411', '2701800410', '2701800406', '2701800405', '2701800402', '2701800401', '2646291840', '2646291827', '2644775015', '2644607909', '2644607876', '2644607826', '2592805038', '2592805037', '2592805024', '2592805018', '2592805005', '2592804989', '2592804984', '2288874253', '2211842108', '2211835616', '2211834801', '2211831824', '2211831666', '2211831655', '2211831653', '2211831635', '2211831630', '2211829513', '2180230680', '2154713094', '1883539282', '1827280140', '1805354096', '1686254412', '1686254402', '1686254303', '1686254293', '1686254262', '1685839488', '1423310359', '1331037340', '1277529313', '1277529285', '1274096042', '1274096017', '1274095983', '1274095908', '1249618552', '1240700453', '1104876201', '1049480205', '1025608641', '927028859', '927028857', '595763502', '595763210', '594191032', '594190945', '356640162', '356640161', '274325806', '274325792', '274325769', '274325752', '270309160', '270309158', '270309157', '262206020', '262205694', '261278335', '254826764', '254826762', '254826760', '254826758', '254039659', '254039657', '254039654', '225543228', '225543225', '194353971', '189409144', '189409143', '188528623', '188219543', '162287125', '162138935', '160333416', '146149122', '141803162', '132626635', '132626632', '124358945', '116517296', '116517294', '116517289', '116089277', '111038144', '84579898', '36031131', '7106358', '2701496918', '2701496910', '2701496901', '2701496895', '2701496893', '2701496891', '2701496883', '2701496879', '2701496875', '2701496868', '2701496863', '2701496859', '2701496857', '2701496855', '2701071072', '2701071069', '2701071067', '2701071066', '2701071065', '2701071064', '2701071063', '2701071062', '2701071061', '2701071060', '2701071059', '2701071058', '2701071057', '2701071056', '2701071055', '2701071054', '2701071053', '2701071052', '2701071051', '2701071050', '2701071049', '2701071048', '2701071047', '2701071046', '2701071045', '2701071044', '2701071043', '2701071042', '2701071041', '2701071040', '2701071039', '2701071038', '2701071036', '2701071035', '2701071034', '2701071032', '2701071028', '2701071025', '2701071023', '2701071021', '2701071019', '2701071018', '2701071016', '2701071015', '2701071012', '2701071007', '2701071005', '2701071002', '2701070999', '2701070997', '2701070995', '2701070994', '2701070993', '2701070988', '2701070986', '2701070984', '2701070982', '2701070981', '2701070979', '2701070978', '2701070973', '2701070971', '2701070969', '2701070967', '2701070964', '2701070962', '2701070961', '2701070957', '2701070956', '2701070955', '2701070954', '2701070950', '2701070949', '2701070945', '2701070940', '2701070937', '2701070936', '2701070934', '2701070932', '2701070930', '2701070926', '2701070924', '2701070923', '2701070921', '2701070919', '2701070918', '2701070916', '2701070915', '2701070911', '2701070910', '2701070908', '2701070905', '2701070904', '2701070903', '2701070898', '2697292254', '2697292234', '2587839278', '2587839256', '2587839248', '2587839238', '2587839236', '2587839231', '2510396999', '2510393998', '2510389309', '2510389306', '2491778663', '2491778654', '2491778628', '2491778618', '2451822290', '2451822233', '2451822194', '2451822186', '2451822120', '2451822070', '2451822028', '2451822013', '2330741772', '2330741023', '2330740091', '2330739915', '2330739837', '2330739142', '2288627575', '2288627574', '2288627553', '2288627540', '2288627515', '2288627513', '2288627499', '2288627497', '2288627452', '2288627448', '2288627447', '2288627439', '2288627414', '2288627392', '2288627390', '2288627379', '2288627374', '2220192003', '2220188175', '2220178896', '2220176411', '1883538139', '1829779068', '1827280114', '1826689224', '1826689223', '1826689222', '1826689198', '1826689182', '1567121803', '1566846655', '1566846632', '1386876219', '1386806264', '1386806185', '1386806166', '1376175673', '1375023243', '1375023241', '1375023239', '1375023138', '1375023108', '1375023062', '1269612297', '1269612250', '1269612230', '1267345273', '1267345247', '1245897691', '1245897643', '1243938384', '1242013610', '1109663859', '1104469592', '1002351092', '1002351091', '930697464', '930697463', '902763378', '902763171', '600971687', '600971676', '600971664', '600971655', '599044218', '590121983', '589269187', '577019545', '577019488', '577019475', '556695493', '556695452', '530354669', '530354668', '530339562', '530339561', '530339560', '530339559', '506326230', '506326215', '357588474', '356995853', '356995852', '356991179', '356991178', '309319789', '309243072', '309243070', '302129694', '262205512', '261824022', '254553443', '254553407', '240255652', '240255650', '239985638', '229577261', '195947362', '167830479', '166235164', '163937862', '162138922', '161484598', '158508500', '146134878', '124244059', '118131130', '116008179', '112734868', '84697027', '84579884', '84579883', '58761521', '9790144', '2700657943', '2700657933', '2700657932', '2700657931', '2700657930', '2700657929', '2700657927', '2700657926', '2700657925', '2700657921', '2700657920', '2700657919', '2700657918', '2700657914', '2700657910', '2700657909', '2700657903', '2700657899', '2700657897', '2700657896', '2700657893', '2700657891', '2700657889', '2700657884', '2700657882', '2700657880', '2700657877', '2700657876', '2700657875', '2700657873', '2700657872', '2700657871', '2700657869', '2700657865', '2700657864', '2700657861', '2700657859', '2700657857', '2700657856', '2700657854', '2700657852', '2700657850', '2700657849', '2700657848', '2700657844', '2700657842', '2698754063', '2698754061', '2698754058', '2698754051', '2698754049', '2698754041', '2698754035', '2698754034', '2698754024', '2698754022', '2698753987', '2698753973', '2698753935', '2698753933', '2698149223', '2697407610', '2697407609', '2697407607', '2697407602', '2697407595', '2697407592', '2697407590', '2697407587', '2697407586', '2697407582', '2697407578', '2697407571', '2697407562', '2697407552', '2697407550', '2697407547', '2697407545', '2697407543', '2697407522', '2697407520', '2697407512', '2697407510', '2697407507', '2697407501', '2697400021', '2697400019', '2672312966', '2658368292', '2647494663', '2637971119', '2637971113', '2637971105', '2637971101', '2637971093', '2637971043', '2630406393', '2630406382'], 'TranslationSet': [{'From': 'Mus musculus[Organism]', 'To': '\"Mus musculus\"[Organism]'}], 'TranslationStack': [{'Term': '\"Mus musculus\"[Organism]', 'Field': 'Organism', 'Count': '11125642', 'Explode': 'Y'}, 'GROUP'], 'QueryTranslation': '\"Mus musculus\"[Organism]'}\n"
     ]
    }
   ],
   "source": [
    "record[\"Count\"]\n",
    "print(record)\n",
    "# retrieve list of genebank identifiers\n",
    "#id_list = record[\"IdList\"]\n",
    "#print(id_list)"
   ]
  },
  {
   "cell_type": "code",
   "execution_count": 8,
   "id": "3bb1998a-c82f-44c7-abd0-9039e88374f1",
   "metadata": {},
   "outputs": [],
   "source": [
    "# data using Entrez.fetch. We retrieve the first ten sequences in fasta format \n",
    "# and save them to a file:\n",
    "Entrez.email = \"bleseapringle@gradcenter.cuny.edu\"\n",
    "handle = Entrez.efetch(db = \"nuccore\", rettype = \"fasta\", retmode = \"text\", id = id_list[:128])\n",
    "# set up a handle to an output file\n",
    "out_handle = open(\"Uropsilus_seq.fasta\", \"w\")\n",
    "# write obtained seq data to file\n",
    "for line in handle:\n",
    "    out_handle.write(line)\n",
    "out_handle.close()\n",
    "handle.close()\n",
    "        "
   ]
  },
  {
   "cell_type": "markdown",
   "id": "1ae5fd7e-da6e-48f1-b6f3-0b22f603babe",
   "metadata": {},
   "source": [
    "4.3.2 Input and output of sequence data using SeqIO\n",
    "Next, we use the module SeqIO to manipulate our sequences and obtain more information\n",
    "about our U. investigator results:"
   ]
  },
  {
   "cell_type": "code",
   "execution_count": 9,
   "id": "499f0370-69b0-4c74-b3a6-77066a2c4f6d",
   "metadata": {},
   "outputs": [
    {
     "name": "stdout",
     "output_type": "stream",
     "text": [
      "NC_060485.1 Uropsilus investigator mitochondrion, complete genome\n",
      "16519\n",
      "MW682667.1 Uropsilus investigator voucher KIZ:PM180283 cytochrome b (cytb) gene, complete cds; mitochondrial\n",
      "1140\n",
      "KC516837.1 Uropsilus investigator isolate A11 apolipoprotein B (ApoB) gene, partial cds\n",
      "573\n",
      "KC516819.1 Uropsilus investigator voucher mlxs331 cytochrome c oxidase subunit I (COI) gene, partial cds, alternatively spliced; mitochondrial\n",
      "912\n",
      "KC516818.1 Uropsilus investigator voucher mlxs022 cytochrome c oxidase subunit I (COI) gene, partial cds, alternatively spliced; mitochondrial\n",
      "912\n",
      "KC516817.1 Uropsilus investigator voucher CY11N009 cytochrome c oxidase subunit I (COI) gene, partial cds, alternatively spliced; mitochondrial\n",
      "912\n",
      "KC516797.1 Uropsilus investigator voucher mlxs331 cytochrome b (CYTB) gene, complete cds; mitochondrial\n",
      "1140\n",
      "KC516796.1 Uropsilus investigator voucher mlxs022 cytochrome b (CYTB) gene, complete cds; mitochondrial\n",
      "1140\n",
      "KC516795.1 Uropsilus investigator voucher CY11N009 cytochrome b (CYTB) gene, complete cds; mitochondrial\n",
      "1140\n",
      "JX945574.1 Uropsilus investigator mitochondrion, complete genome\n",
      "16519\n",
      "MH210524.1 Uropsilus investigator voucher KIZ:2012121035 titin (TTN) gene, partial cds\n",
      "940\n",
      "MH210522.1 Uropsilus investigator voucher KIZ:GLGS2416 titin (TTN) gene, partial cds\n",
      "940\n",
      "MH210519.1 Uropsilus investigator voucher KIZ:GLGS1945 titin (TTN) gene, partial cds\n",
      "940\n",
      "MH210500.1 Uropsilus investigator voucher KIZ:201211262 titin (TTN) gene, partial cds\n",
      "940\n",
      "MH210498.1 Uropsilus investigator voucher KIZ:201211169 titin (TTN) gene, partial cds\n",
      "940\n",
      "MH210497.1 Uropsilus investigator voucher KIZ:201211160 titin (TTN) gene, partial cds\n",
      "940\n",
      "MH210496.1 Uropsilus investigator voucher KIZ:201211149 titin (TTN) gene, partial cds\n",
      "940\n",
      "MH210491.1 Uropsilus investigator voucher KIZ:201211136 titin (TTN) gene, partial cds\n",
      "940\n",
      "MH210382.1 Uropsilus investigator voucher KIZ:2012121035 recombination activating protein 2 (RAG2) gene, partial cds\n",
      "701\n",
      "MH210368.1 Uropsilus investigator voucher KIZ:201211262 recombination activating protein 2 (RAG2) gene, partial cds\n",
      "701\n",
      "MH210366.1 Uropsilus investigator voucher KIZ:201211169 recombination activating protein 2 (RAG2) gene, partial cds\n",
      "701\n",
      "MH210365.1 Uropsilus investigator voucher KIZ:201211160 recombination activating protein 2 (RAG2) gene, partial cds\n",
      "701\n",
      "MH210364.1 Uropsilus investigator voucher KIZ:201211149 recombination activating protein 2 (RAG2) gene, partial cds\n",
      "701\n",
      "MH210359.1 Uropsilus investigator voucher KIZ:201211136 recombination activating protein 2 (RAG2) gene, partial cds\n",
      "701\n",
      "MH210257.1 Uropsilus investigator voucher KIZ:2012121035 recombination activating protein 1 (RAG1) gene, partial cds\n",
      "1010\n",
      "MH210245.1 Uropsilus investigator voucher KIZ:201211262 recombination activating protein 1 (RAG1) gene, partial cds\n",
      "1010\n",
      "MH210243.1 Uropsilus investigator voucher KIZ:201211169 recombination activating protein 1 (RAG1) gene, partial cds\n",
      "1010\n",
      "MH210242.1 Uropsilus investigator voucher KIZ:201211160 recombination activating protein 1 (RAG1) gene, partial cds\n",
      "1010\n",
      "MH210241.1 Uropsilus investigator voucher KIZ:201211149 recombination activating protein 1 (RAG1) gene, partial cds\n",
      "1010\n",
      "MH210236.1 Uropsilus investigator voucher KIZ:201211136 recombination activating protein 1 (RAG1) gene, partial cds\n",
      "1010\n",
      "MH210147.1 Uropsilus investigator voucher KIZ:2012121035 phospholipase C beta 4 (PLCB4) gene, 3' UTR\n",
      "300\n",
      "MH210133.1 Uropsilus investigator voucher KIZ:201211262 phospholipase C beta 4 (PLCB4) gene, 3' UTR\n",
      "300\n",
      "MH210131.1 Uropsilus investigator voucher KIZ:201211169 phospholipase C beta 4 (PLCB4) gene, 3' UTR\n",
      "300\n",
      "MH210130.1 Uropsilus investigator voucher KIZ:201211160 phospholipase C beta 4 (PLCB4) gene, 3' UTR\n",
      "300\n",
      "MH210129.1 Uropsilus investigator voucher KIZ:201211149 phospholipase C beta 4 (PLCB4) gene, 3' UTR\n",
      "300\n",
      "MH210124.1 Uropsilus investigator voucher KIZ:201211136 phospholipase C beta 4 (PLCB4) gene, 3' UTR\n",
      "300\n",
      "MH209999.1 Uropsilus investigator voucher KIZ:GLGS2416 growth hormone receptor (GHR) gene, partial cds\n",
      "799\n",
      "MH209996.1 Uropsilus investigator voucher KIZ:GLGS1945 growth hormone receptor (GHR) gene, partial cds\n",
      "799\n",
      "MH209980.1 Uropsilus investigator voucher KIZ:201211262 growth hormone receptor (GHR) gene, partial cds\n",
      "799\n",
      "MH209978.1 Uropsilus investigator voucher KIZ:201211169 growth hormone receptor (GHR) gene, partial cds\n",
      "799\n",
      "MH209977.1 Uropsilus investigator voucher KIZ:201211160 growth hormone receptor (GHR) gene, partial cds\n",
      "799\n",
      "MH209976.1 Uropsilus investigator voucher KIZ:201211149 growth hormone receptor (GHR) gene, partial cds\n",
      "799\n",
      "MH209971.1 Uropsilus investigator voucher KIZ:201211136 growth hormone receptor (GHR) gene, partial cds\n",
      "799\n",
      "MH209841.1 Uropsilus investigator voucher KIZ:GLGS1945 breast cancer 2 (BRCA2) gene, partial cds\n",
      "784\n",
      "MH209830.1 Uropsilus investigator voucher KIZ:201211262 breast cancer 2 (BRCA2) gene, partial cds\n",
      "784\n",
      "MH209828.1 Uropsilus investigator voucher KIZ:201211169 breast cancer 2 (BRCA2) gene, partial cds\n",
      "784\n",
      "MH209827.1 Uropsilus investigator voucher KIZ:201211160 breast cancer 2 (BRCA2) gene, partial cds\n",
      "784\n",
      "MH209826.1 Uropsilus investigator voucher KIZ:201211149 breast cancer 2 (BRCA2) gene, partial cds\n",
      "784\n",
      "MH209821.1 Uropsilus investigator voucher KIZ:201211136 breast cancer 2 (BRCA2) gene, partial cds\n",
      "784\n",
      "MH209707.1 Uropsilus investigator voucher KIZ:2012121035 cytochrome b (cytb) gene, complete cds; mitochondrial\n",
      "1140\n",
      "MH209705.1 Uropsilus investigator voucher KIZ:GLGS2416 cytochrome b (cytb) gene, complete cds; mitochondrial\n",
      "1140\n",
      "MH209702.1 Uropsilus investigator voucher KIZ:GLGS1945 cytochrome b (cytb) gene, complete cds; mitochondrial\n",
      "1140\n",
      "MH209689.1 Uropsilus investigator voucher KIZ:201211262 cytochrome b (cytb) gene, complete cds; mitochondrial\n",
      "1140\n",
      "MH209687.1 Uropsilus investigator voucher KIZ:201211169 cytochrome b (cytb) gene, complete cds; mitochondrial\n",
      "1140\n",
      "MH209686.1 Uropsilus investigator voucher KIZ:201211160 cytochrome b (cytb) gene, complete cds; mitochondrial\n",
      "1140\n",
      "MH209685.1 Uropsilus investigator voucher KIZ:201211149 cytochrome b (cytb) gene, complete cds; mitochondrial\n",
      "1140\n",
      "MH209680.1 Uropsilus investigator voucher KIZ:201211136 cytochrome b (cytb) gene, complete cds; mitochondrial\n",
      "1140\n",
      "KC759121.1 Uropsilus investigator isolate Deqin control region, partial sequence; mitochondrial\n",
      "491\n",
      "KF778086.1 Uropsilus investigator voucher KIZ:020539 polycomb ring finger oncoprotein (BMI1) gene, 3' UTR\n",
      "313\n",
      "KF778085.1 Uropsilus investigator voucher KIZ:020527 polycomb ring finger oncoprotein (BMI1) gene, 3' UTR\n",
      "313\n",
      "KF778084.1 Uropsilus investigator voucher KIZ:028528 polycomb ring finger oncoprotein (BMI1) gene, 3' UTR\n",
      "313\n",
      "KF778083.1 Uropsilus investigator voucher KIZ:028526 polycomb ring finger oncoprotein (BMI1) gene, 3' UTR\n",
      "313\n",
      "KF778050.1 Uropsilus investigator voucher KIZ:028530 polycomb ring finger oncoprotein (BMI1) gene, 3' UTR\n",
      "313\n",
      "KF778049.1 Uropsilus investigator voucher KIZ:028527 polycomb ring finger oncoprotein (BMI1) gene, 3' UTR\n",
      "313\n",
      "KF778048.1 Uropsilus investigator voucher KIZ:028529 polycomb ring finger oncoprotein (BMI1) gene, 3' UTR\n",
      "313\n",
      "KF777936.1 Uropsilus investigator voucher KIZ:020539 ATP7A (ATP7A) gene, partial cds\n",
      "675\n",
      "KF777935.1 Uropsilus investigator voucher KIZ:020527 ATP7A (ATP7A) gene, partial cds\n",
      "675\n",
      "KF777934.1 Uropsilus investigator voucher KIZ:028530 ATP7A (ATP7A) gene, partial cds\n",
      "675\n",
      "KF777933.1 Uropsilus investigator voucher KIZ:028529 ATP7A (ATP7A) gene, partial cds\n",
      "675\n",
      "KF777932.1 Uropsilus investigator voucher KIZ:028528 ATP7A (ATP7A) gene, partial cds\n",
      "675\n",
      "KF777931.1 Uropsilus investigator voucher KIZ:028527 ATP7A (ATP7A) gene, partial cds\n",
      "675\n",
      "KF777930.1 Uropsilus investigator voucher KIZ:028526 ATP7A (ATP7A) gene, partial cds\n",
      "675\n",
      "KF777873.1 Uropsilus investigator voucher KIZ:020539 12S ribosomal RNA gene, partial sequence; mitochondrial\n",
      "842\n",
      "KF777872.1 Uropsilus investigator voucher KIZ:020527 12S ribosomal RNA gene, partial sequence; mitochondrial\n",
      "842\n",
      "KF777871.1 Uropsilus investigator voucher KIZ:028528 12S ribosomal RNA gene, partial sequence; mitochondrial\n",
      "842\n",
      "KF777870.1 Uropsilus investigator voucher KIZ:028529 12S ribosomal RNA gene, partial sequence; mitochondrial\n",
      "841\n",
      "KF777869.1 Uropsilus investigator voucher KIZ:028526 12S ribosomal RNA gene, partial sequence; mitochondrial\n",
      "841\n",
      "KF777868.1 Uropsilus investigator voucher KIZ:028530 12S ribosomal RNA gene, partial sequence; mitochondrial\n",
      "841\n",
      "KF777867.1 Uropsilus investigator voucher KIZ:028527 12S ribosomal RNA gene, partial sequence; mitochondrial\n",
      "841\n",
      "KF778367.1 Uropsilus investigator voucher KIZ:020527 recombination activating protein 2 (RAG2) gene, partial cds\n",
      "751\n",
      "KF778366.1 Uropsilus investigator voucher KIZ:028530 recombination activating protein 2 (RAG2) gene, partial cds\n",
      "751\n",
      "KF778365.1 Uropsilus investigator voucher KIZ:028528 recombination activating protein 2 (RAG2) gene, partial cds\n",
      "751\n",
      "KF778364.1 Uropsilus investigator voucher KIZ:028527 recombination activating protein 2 (RAG2) gene, partial cds\n",
      "751\n",
      "KF778363.1 Uropsilus investigator voucher KIZ:028526 recombination activating protein 2 (RAG2) gene, partial cds\n",
      "751\n",
      "KF778331.1 Uropsilus investigator voucher KIZ:020539 recombination activating protein 2 (RAG2) gene, partial cds\n",
      "751\n",
      "KF778330.1 Uropsilus investigator voucher KIZ:028529 recombination activating protein 2 (RAG2) gene, partial cds\n",
      "751\n",
      "KF778275.1 Uropsilus investigator voucher KIZ:020539 recombination activating protein 1 (RAG1) gene, partial cds\n",
      "1010\n",
      "KF778274.1 Uropsilus investigator voucher KIZ:020527 recombination activating protein 1 (RAG1) gene, partial cds\n",
      "1010\n",
      "KF778273.1 Uropsilus investigator voucher KIZ:028529 recombination activating protein 1 (RAG1) gene, partial cds\n",
      "1010\n",
      "KF778272.1 Uropsilus investigator voucher KIZ:028528 recombination activating protein 1 (RAG1) gene, partial cds\n",
      "1010\n",
      "KF778271.1 Uropsilus investigator voucher KIZ:028526 recombination activating protein 1 (RAG1) gene, partial cds\n",
      "1010\n",
      "KF778270.1 Uropsilus investigator voucher KIZ:028530 recombination activating protein 1 (RAG1) gene, partial cds\n",
      "1010\n",
      "KF778269.1 Uropsilus investigator voucher KIZ:028527 recombination activating protein 1 (RAG1) gene, partial cds\n",
      "1010\n",
      "KF778221.1 Uropsilus investigator voucher KIZ:028528 phospholipase C beta 4 (PLCB4) gene, 3' UTR\n",
      "331\n",
      "KF778220.1 Uropsilus investigator voucher KIZ:028526 phospholipase C beta 4 (PLCB4) gene, 3' UTR\n",
      "331\n",
      "KF778219.1 Uropsilus investigator voucher KIZ:020527 phospholipase C beta 4 (PLCB4) gene, 3' UTR\n",
      "331\n",
      "KF778218.1 Uropsilus investigator voucher KIZ:028529 phospholipase C beta 4 (PLCB4) gene, 3' UTR\n",
      "331\n",
      "KF778217.1 Uropsilus investigator voucher KIZ:028530 phospholipase C beta 4 (PLCB4) gene, 3' UTR\n",
      "331\n",
      "KF778216.1 Uropsilus investigator voucher KIZ:020539 phospholipase C beta 4 (PLCB4) gene, 3' UTR\n",
      "331\n",
      "KF778215.1 Uropsilus investigator voucher KIZ:028527 phospholipase C beta 4 (PLCB4) gene, 3' UTR\n",
      "331\n",
      "KF778160.1 Uropsilus investigator voucher KIZ:020539 cytochrome b (CYTB) gene, complete cds; mitochondrial\n",
      "1140\n",
      "KF778159.1 Uropsilus investigator voucher KIZ:020527 cytochrome b (CYTB) gene, complete cds; mitochondrial\n",
      "1140\n",
      "KF778158.1 Uropsilus investigator voucher KIZ:028528 cytochrome b (CYTB) gene, complete cds; mitochondrial\n",
      "1140\n",
      "KF778157.1 Uropsilus investigator voucher KIZ:028529 cytochrome b (CYTB) gene, complete cds; mitochondrial\n",
      "1140\n",
      "KF778156.1 Uropsilus investigator voucher KIZ:028526 cytochrome b (CYTB) gene, complete cds; mitochondrial\n",
      "1140\n",
      "KF778155.1 Uropsilus investigator voucher KIZ:028530 cytochrome b (CYTB) gene, complete cds; mitochondrial\n",
      "1140\n",
      "KF778154.1 Uropsilus investigator voucher KIZ:028527 cytochrome b (CYTB) gene, complete cds; mitochondrial\n",
      "1140\n",
      "KF778151.1 Uropsilus investigator voucher KIZ:028529 cAMP responsive element moderator (CREM) gene, 3' UTR\n",
      "387\n",
      "KF778109.1 Uropsilus investigator voucher KIZ:020539 cAMP responsive element moderator (CREM) gene, 3' UTR\n",
      "387\n",
      "KF778108.1 Uropsilus investigator voucher KIZ:020527 cAMP responsive element moderator (CREM) gene, 3' UTR\n",
      "387\n",
      "KF778107.1 Uropsilus investigator voucher KIZ:028530 cAMP responsive element moderator (CREM) gene, 3' UTR\n",
      "387\n",
      "KF778106.1 Uropsilus investigator voucher KIZ:028528 cAMP responsive element moderator (CREM) gene, 3' UTR\n",
      "387\n",
      "KF778105.1 Uropsilus investigator voucher KIZ:028527 cAMP responsive element moderator (CREM) gene, 3' UTR\n",
      "387\n",
      "KF778104.1 Uropsilus investigator voucher KIZ:028526 cAMP responsive element moderator (CREM) gene, 3' UTR\n",
      "387\n",
      "KF777992.1 Uropsilus investigator voucher KIZ:020539 brain-derived neurotrophic factor (BDNF) gene, partial cds\n",
      "555\n",
      "KF777991.1 Uropsilus investigator voucher KIZ:020527 brain-derived neurotrophic factor (BDNF) gene, partial cds\n",
      "555\n",
      "KF777990.1 Uropsilus investigator voucher KIZ:028528 brain-derived neurotrophic factor (BDNF) gene, partial cds\n",
      "555\n",
      "KF777989.1 Uropsilus investigator voucher KIZ:028530 brain-derived neurotrophic factor (BDNF) gene, partial cds\n",
      "555\n",
      "KF777988.1 Uropsilus investigator voucher KIZ:028526 brain-derived neurotrophic factor (BDNF) gene, partial cds\n",
      "555\n",
      "KF777987.1 Uropsilus investigator voucher KIZ:028527 brain-derived neurotrophic factor (BDNF) gene, partial cds\n",
      "555\n",
      "KF777986.1 Uropsilus investigator voucher KIZ:028529 brain-derived neurotrophic factor (BDNF) gene, partial cds\n",
      "555\n",
      "KF777880.1 Uropsilus investigator voucher KIZ:020539 adenosine A3 receptor (ADORA3) gene, partial cds\n",
      "321\n",
      "KF777879.1 Uropsilus investigator voucher KIZ:020527 adenosine A3 receptor (ADORA3) gene, partial cds\n",
      "321\n",
      "KF777878.1 Uropsilus investigator voucher KIZ:028530 adenosine A3 receptor (ADORA3) gene, partial cds\n",
      "321\n",
      "KF777877.1 Uropsilus investigator voucher KIZ:028529 adenosine A3 receptor (ADORA3) gene, partial cds\n",
      "321\n",
      "KF777876.1 Uropsilus investigator voucher KIZ:028528 adenosine A3 receptor (ADORA3) gene, partial cds\n",
      "321\n",
      "KF777875.1 Uropsilus investigator voucher KIZ:028527 adenosine A3 receptor (ADORA3) gene, partial cds\n",
      "321\n",
      "KF777874.1 Uropsilus investigator voucher KIZ:028526 adenosine A3 receptor (ADORA3) gene, partial cds\n",
      "321\n"
     ]
    }
   ],
   "source": [
    "from Bio import SeqIO\n",
    "handle = open(\"Uropsilus_seq.fasta\", \"r\")\n",
    "# print ID and seq length\n",
    "for record in SeqIO.parse(handle, \"fasta\"):\n",
    "    print(record.description)\n",
    "    print(len(record))\n",
    "handle.close()"
   ]
  },
  {
   "cell_type": "markdown",
   "id": "ca62fd90-cd51-4986-b4f7-8c0347741061",
   "metadata": {},
   "source": [
    "Let’s select only the records of the BMI1 gene and shorten our sequences before writing to a new file (note you’ll need to repeat the preceding steps but with Entrez.esearch\n",
    "including retmax set to the maximum number of IDs, i.e., handle = Entrez.esearch(db =\n",
    "\"nuccore\", term = (\"Uropsilus investigator[Organism]\"), retmax = 126), and with\n",
    "Entrez.efetch also reflecting the maximum number of IDs, i.e., handle = Entrez.efetch(db\n",
    "= \"nuccore\", rettype = \"fasta\", retmode = \"text\", id = id list[:126])):"
   ]
  },
  {
   "cell_type": "code",
   "execution_count": 10,
   "id": "c3b3ca72-33b9-4b67-adee-09d174177ebb",
   "metadata": {},
   "outputs": [
    {
     "name": "stdout",
     "output_type": "stream",
     "text": [
      "KF778086.1\n",
      "KF778085.1\n",
      "KF778084.1\n",
      "KF778083.1\n",
      "KF778050.1\n",
      "KF778049.1\n",
      "KF778048.1\n"
     ]
    }
   ],
   "source": [
    "import re\n",
    "output_handle = open(\"Uropsilus_BMI1.fasta\", \"w\")\n",
    "for record in SeqIO.parse(\"Uropsilus_seq.fasta\", \"fasta\"):\n",
    "    # find BMI1 seqs\n",
    "    if re.search(\"BMI1\", record.description):\n",
    "        print(record.id)\n",
    "    # shorten seq by Python slicing\n",
    "        short_seq = record[:100]\n",
    "        #SeqIO.write(short_seq, out_handle, \"fasta\")\n",
    "#output_handle.close()"
   ]
  },
  {
   "cell_type": "markdown",
   "id": "6cd3b3ff-9382-4344-a877-5afede86727b",
   "metadata": {},
   "source": [
    "4.3.3 Programmatic BLAST search\n",
    "The Basic Local Alignment Search Tool (BLAST) finds regions of similarity between biological sequences. Biopython provides a module to conveniently run a BLAST search against\n",
    "online databases:"
   ]
  },
  {
   "cell_type": "code",
   "execution_count": 11,
   "id": "fead7635-e849-42d9-9121-e0caf281f494",
   "metadata": {},
   "outputs": [],
   "source": [
    "# NCBIWWW allows programmatic access of NCBI's BLAST server\n",
    "from Bio.Blast import NCBIWWW\n",
    "# retrieve seqs using SeqIO\n",
    "handle = open(\"Uropsilus_BMI1.fasta\", \"r\")\n",
    "# convert SecRecord into a list for easy access\n",
    "records = list(SeqIO.parse(handle, \"fasta\"))\n",
    "# Example of retrieved (fourth) sequence:\n",
    "# input: print(records[3].id, \" \", records[3].seq)\n",
    "# output: KF778083.1 TATTATGCTGTTTTGTGAACCTGTAG[...]"
   ]
  },
  {
   "cell_type": "markdown",
   "id": "697b1c0d-9ab2-4d20-bebe-109550c04f5e",
   "metadata": {},
   "source": [
    "We are now ready to run our BLAST search against the NCBI nucleotide database\n",
    "(other options are blastp, blastx, tblastn, or tblastx):"
   ]
  },
  {
   "cell_type": "code",
   "execution_count": 14,
   "id": "d17bf63f-93c0-4ae7-963e-0bf3ab283b48",
   "metadata": {},
   "outputs": [
    {
     "ename": "IndexError",
     "evalue": "list index out of range",
     "output_type": "error",
     "traceback": [
      "\u001b[1;31m---------------------------------------------------------------------------\u001b[0m",
      "\u001b[1;31mIndexError\u001b[0m                                Traceback (most recent call last)",
      "Cell \u001b[1;32mIn[14], line 6\u001b[0m\n\u001b[0;32m      2\u001b[0m Entrez\u001b[38;5;241m.\u001b[39memail \u001b[38;5;241m=\u001b[39m \u001b[38;5;124m\"\u001b[39m\u001b[38;5;124mbleseapringle@gradcenter.cuny.edu\u001b[39m\u001b[38;5;124m\"\u001b[39m\n\u001b[0;32m      3\u001b[0m \u001b[38;5;66;03m#NCBIWWW.qblast requires three arguments:\u001b[39;00m\n\u001b[0;32m      4\u001b[0m \u001b[38;5;66;03m#program, database, sequence\u001b[39;00m\n\u001b[0;32m      5\u001b[0m \u001b[38;5;66;03m# note that this can take more than five minutes to run\u001b[39;00m\n\u001b[1;32m----> 6\u001b[0m result_handle \u001b[38;5;241m=\u001b[39m NCBIWWW\u001b[38;5;241m.\u001b[39mqblast(\u001b[38;5;124m\"\u001b[39m\u001b[38;5;124mblastn\u001b[39m\u001b[38;5;124m\"\u001b[39m, \u001b[38;5;124m\"\u001b[39m\u001b[38;5;124mnt\u001b[39m\u001b[38;5;124m\"\u001b[39m, records[\u001b[38;5;241m3\u001b[39m]\u001b[38;5;241m.\u001b[39mseq)\n\u001b[0;32m      7\u001b[0m \u001b[38;5;66;03m# set up output file\u001b[39;00m\n\u001b[0;32m      8\u001b[0m save_file \u001b[38;5;241m=\u001b[39m \u001b[38;5;28mopen\u001b[39m(\u001b[38;5;124m\"\u001b[39m\u001b[38;5;124mmy_blast.xml\u001b[39m\u001b[38;5;124m\"\u001b[39m, \u001b[38;5;124m\"\u001b[39m\u001b[38;5;124mw\u001b[39m\u001b[38;5;124m\"\u001b[39m)\n",
      "\u001b[1;31mIndexError\u001b[0m: list index out of range"
     ]
    }
   ],
   "source": [
    "# always tell NCBI who you are\n",
    "Entrez.email = \"bleseapringle@gradcenter.cuny.edu\"\n",
    "#NCBIWWW.qblast requires three arguments:\n",
    "#program, database, sequence\n",
    "# note that this can take more than five minutes to run\n",
    "result_handle = NCBIWWW.qblast(\"blastn\", \"nt\", records[3].seq)\n",
    "# set up output file\n",
    "save_file = open(\"my_blast.xml\", \"w\")\n",
    "# write results to output file\n",
    "save_file.write(result_handle.read())\n",
    "save_file.close()\n",
    "result_handle.close()"
   ]
  },
  {
   "cell_type": "markdown",
   "id": "4aa72453-a14f-4c20-8414-e8a234d5dd04",
   "metadata": {},
   "source": [
    "4.3.4 Querying PubMed for scientific literature information\n",
    "Last but not least, we query NCBI’s scientific literature database, PubMed. We can, for\n",
    "instance, obtain information on specific journals, search for authors or specific terms in abstracts and titles (see goo.gl/en5Ej6 for a list and description of all search options). Here,\n",
    "we want to find the latest information on the gene Spaetzle in Drosophila. We first query\n",
    "the database and then extract sentences that contain the word Spaetzle:"
   ]
  },
  {
   "cell_type": "code",
   "execution_count": 16,
   "id": "1a33f5d1-3068-40d9-a285-b0aa940da151",
   "metadata": {},
   "outputs": [],
   "source": [
    "Entrez.email = \"bleseapringle@gradcenter.cuny.edu\"\n",
    "handle = Entrez.esearch(db = \"pubmed\",\n",
    "term = (\"spaetzle[Title/Abstract] AND Drosophila[ALL]\"),\n",
    "usehistory = \"y\")\n",
    "# parse results and convert to Python dictionary\n",
    "record = Entrez.read(handle)\n",
    "handle.close()\n",
    "# see how many hits were found - type: record [\"Count\"]"
   ]
  },
  {
   "cell_type": "code",
   "execution_count": 17,
   "id": "87f65f92-2ce6-4aa1-aed9-580d8424c2d3",
   "metadata": {},
   "outputs": [
    {
     "data": {
      "text/plain": [
       "'18'"
      ]
     },
     "execution_count": 17,
     "metadata": {},
     "output_type": "execute_result"
    }
   ],
   "source": [
    "record [\"Count\"]"
   ]
  },
  {
   "cell_type": "markdown",
   "id": "7f068975-1d1f-4096-9642-9dc0aec0436d",
   "metadata": {},
   "source": [
    "In our Entrez.esearch call, we turned the use history option on. This option is recommended for complex or large queries. NCBI keeps track of our activities and we can\n",
    "reference a previous query up to eight hours later by providing \\WebEnv\" and \\QueryKey\"\n",
    "as parameters in our next E-Utilities call"
   ]
  },
  {
   "cell_type": "code",
   "execution_count": 18,
   "id": "06a7f4cb-7f17-4efc-ba1d-40bad48981f4",
   "metadata": {},
   "outputs": [],
   "source": [
    "# store WebEnv and QueryKey in variable for later reference\n",
    "webenv = record[\"WebEnv\"]\n",
    "query_key = record[\"QueryKey\"]"
   ]
  },
  {
   "cell_type": "markdown",
   "id": "0dafb58c-eb69-4ab3-8715-6702d977f1ce",
   "metadata": {},
   "source": [
    "Now that we know what’s available, we retrieve data from the PubMed database by calling Entrez.efetch and write the results to a file. The query can be shortened by reusing\n",
    "our WebEnv and WebKey information:"
   ]
  },
  {
   "cell_type": "code",
   "execution_count": 19,
   "id": "f0d38682-9abd-4990-a507-37c584bb2cb8",
   "metadata": {},
   "outputs": [],
   "source": [
    "Entrez.email = \"bleseapringle@gradcenter.cuny.edu\"\n",
    "handle = Entrez.efetch(db = \"pubmed\",\n",
    "                       rettype = \"medline\",\n",
    "                       retmode = \"text\",\n",
    "                       webenv = webenv,\n",
    "                       query_key = query_key)\n",
    "out_handle = open(\"Spaetzle_abstracts.txt\", \"w\")\n",
    "data = handle.read()\n",
    "handle.close()\n",
    "out_handle.write(data)\n",
    "out_handle.close()\n",
    "                       "
   ]
  },
  {
   "cell_type": "markdown",
   "id": "4285019d-5c01-426c-b94f-ecdf607590c7",
   "metadata": {},
   "source": [
    "Using regular expressions, we extract all sentences containing the word Spaetzle:"
   ]
  },
  {
   "cell_type": "code",
   "execution_count": 20,
   "id": "79b03cc7-0ea4-4cfa-830d-1879f15b0ba6",
   "metadata": {},
   "outputs": [
    {
     "name": "stdout",
     "output_type": "stream",
     "text": [
      "PubMedID:  36675034   [' Spaetzle proteins, activated by immune  signals from upstream components, bind to Toll proteins, thus, activating the  Toll pathway, which in turn, induces AMP gene']\n",
      "PubMedID:  32591083   [' These  events promote the ventral processing of Spaetzle, a ligand for Toll, which  ultimately sets up the embryonic dorsal-vent']\n",
      "PubMedID:  32014469   [' In addition, beta-1, 3-glucan (laminarin), the main  component of the cell wall of the pathogenic fungus Metarhizium acridum, was  capable of activating the Toll signaling pathway (Spaetzle and Cactus) when it  was applied on ']\n",
      "PubMedID:  31719046   ['  The dynamics indicate that a sharp extracellular gradient is formed through  diffusion-based shuttling of the Spaetzle (Spz) morphogen that progresses through  several nuclear divisions']\n",
      "PubMedID:  27314646   [' While cytokines activating immune responses,  such as Spaetzle or Unpaired-3, have been identified and characterized in  Drosophila, much less is known regarding immunosuppressor cytokine']\n",
      "PubMedID:  25359976   [' However, the fly Toll ligand Spaetzle is not thought to have a  vertebrate equivalent', ' We have found that the structurally related cystine-knot  protein, nerve growth factor beta (NGFbeta), plays an unexpected Spaetzle-like role in  immunity to Staphylococcus aureus infection in ']\n",
      "PubMedID:  21310954   ['  Epistasic studies position it downstream of the apical protease ModSP and  upstream of the terminal protease Spaetzle-processing enz']\n",
      "PubMedID:  19581577   [' We  also found that Spn5 is a negative regulator of the Toll pathway and functions  extracellularly, likely by blocking the proteolytic activation of Spaetzle, the  Toll receptor ligand']\n",
      "PubMedID:  12098703   ['AB  - Drosophila host defense to fungal and Gram-positive bacterial infection is  mediated by the Spaetzle/Toll/cactus gene', ' The upstream events linking  infection to the cleavage of Spaetzle have long remaine']\n",
      "PubMedID:  12027957   [' Fungal exposure  activates a series of serine proteases that process the protein Spaetzle to a  cytokine-like form that acts as a ligand']\n",
      "PubMedID:  11728442   ['  Toll is activated by Spaetzle, which is generated in response to pathogens via a  serine']\n",
      "PubMedID:  11350927   ['AB  - Three serine protease zymogens, Gastrulation defective (GD), Snake (Snk) and  Easter (Ea), and a nerve growth factor-like growth factor ligand precursor,  Spaetzle, are required for specification of dorsal- ventral cell fate during  Drosophila embryogene']\n",
      "PubMedID:  10973475   [' This result was  independently confirmed by the demonstration that a dominant-negative version of  the kinase Pelle can block induction of drosomycin by the cytokine Spaetzle, but  does not affect induction of the antibacterial peptide attacin ']\n",
      "PubMedID:  10489372   [' Spaetzle was cleaved by proteolytic enzymes to  its active ligand form shortly after immune challenge, and cleaved Spaetzle was  constitutively present in Spn43Ac-deficient']\n",
      "PubMedID:  10369678   [' Finally, we have used fat body cell clones homozygous for various  mutations to show that a linear activation cascade Spaetzle-->  Toll-->Cactus-->Dorsal/DIF leads to the induction of the drosomycin gene in ']\n",
      "PubMedID:  9165082   ['  The putative structural similarity of coagulogen and the Drosophila morphogen  Spaetzle as well as the homology of its processing proteinases suggests a common  origin of the two functionally different']\n"
     ]
    }
   ],
   "source": [
    "import re\n",
    "with open(\"Spaetzle_abstracts.txt\") as datafile:\n",
    "    pubmed_input = datafile.read()\n",
    "    # delete newlines followed by 6 spaces\n",
    "    # to have titles and abstracts on one line\n",
    "    pubmed_input = re.sub(r\"\\n\\s{6}\", \" \", pubmed_input)\n",
    "    for line in pubmed_input.split(\"\\n\"):\n",
    "        if re.match(\"PMID\", line):\n",
    "            PMID = re.search(r\"\\d+\", line).group()\n",
    "        if re.match(\"AB\", line):\n",
    "            spaetzle = re.findall(r\"([^.]*?Spaetzle[^.]*n.)\", line)\n",
    "            # don't print if list of matches is empty\n",
    "            if spaetzle:\n",
    "                print(\"PubMedID: \", PMID, \" \", spaetzle)"
   ]
  },
  {
   "cell_type": "markdown",
   "id": "8a0ccdb1-9a7b-467e-86d8-d087d6edd51c",
   "metadata": {},
   "source": [
    "You just retrieved all sentences from titles and abstracts in PubMed that contain the\n",
    "keywords Spaetzle and Drosophila. Although you can achieve the same task relatively quickly\n",
    "using the graphical web interface, the programmatic approach is a lot more efficient when\n",
    "you want to learn about another 20 proteins and possibly repeat the search a year later. By\n",
    "slightly modifying the script (e.g., with a loop that cycles through your keywords of interest),\n",
    "you can immediately start reading the information instead of spending your time clicking\n",
    "through web pages and manually pasting results to different files."
   ]
  },
  {
   "cell_type": "code",
   "execution_count": null,
   "id": "310b15b8-ab72-42aa-9e50-af632b20b582",
   "metadata": {},
   "outputs": [],
   "source": []
  },
  {
   "cell_type": "code",
   "execution_count": null,
   "id": "25046d75-995d-423b-9dfe-6666e4dc6d7a",
   "metadata": {},
   "outputs": [],
   "source": []
  }
 ],
 "metadata": {
  "kernelspec": {
   "display_name": "Python 3 (ipykernel)",
   "language": "python",
   "name": "python3"
  },
  "language_info": {
   "codemirror_mode": {
    "name": "ipython",
    "version": 3
   },
   "file_extension": ".py",
   "mimetype": "text/x-python",
   "name": "python",
   "nbconvert_exporter": "python",
   "pygments_lexer": "ipython3",
   "version": "3.11.5"
  }
 },
 "nbformat": 4,
 "nbformat_minor": 5
}

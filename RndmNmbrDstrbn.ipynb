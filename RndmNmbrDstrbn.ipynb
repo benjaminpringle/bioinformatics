{
 "cells": [
  {
   "cell_type": "code",
   "execution_count": 3,
   "id": "777d51c1-ae3c-4d4c-8cc2-062c8d982cde",
   "metadata": {},
   "outputs": [
    {
     "data": {
      "text/plain": [
       "array([0.70610897, 0.22151951])"
      ]
     },
     "execution_count": 3,
     "metadata": {},
     "output_type": "execute_result"
    }
   ],
   "source": [
    "# To perform simulations, randomisations, or statistics, you need to access functions to draw\n",
    "#random numbers from speci\f",
    "c distributions, evaluate the density of a distribution at a given\n",
    "# point, etc. This is easy to do in NumPy. For example, to sample numbers from a uniform\n",
    "# distribution U[0,1], use:\n",
    "import numpy as np\n",
    "# sample two random numbers from uniform distribution U[0,1]\n",
    "np.random.random(2)"
   ]
  },
  {
   "cell_type": "code",
   "execution_count": 4,
   "id": "aaeef033-1470-4a5a-bb5d-0367fb3ee0c6",
   "metadata": {},
   "outputs": [
    {
     "data": {
      "text/plain": [
       "array([0, 3, 3, 1, 3, 2, 2, 2, 1, 0])"
      ]
     },
     "execution_count": 4,
     "metadata": {},
     "output_type": "execute_result"
    }
   ],
   "source": [
    "# similarly, you can sample integers:\n",
    "# provide arguments maximum and how many draws\n",
    "np.random.randint(5, size = 10)"
   ]
  },
  {
   "cell_type": "code",
   "execution_count": 5,
   "id": "61fcaed2-849d-411a-8052-baf72354d8cb",
   "metadata": {},
   "outputs": [
    {
     "data": {
      "text/plain": [
       "array([-4, -4, -5, -5])"
      ]
     },
     "execution_count": 5,
     "metadata": {},
     "output_type": "execute_result"
    }
   ],
   "source": [
    "np.random.randint(-5, -3, size = 4)"
   ]
  },
  {
   "cell_type": "code",
   "execution_count": 7,
   "id": "11021630-4646-4806-acd2-23760c522cab",
   "metadata": {},
   "outputs": [
    {
     "data": {
      "text/plain": [
       "array([0, 1, 2, 3])"
      ]
     },
     "execution_count": 7,
     "metadata": {},
     "output_type": "execute_result"
    }
   ],
   "source": [
    "a = np.arange(4)\n",
    "a"
   ]
  },
  {
   "cell_type": "code",
   "execution_count": 8,
   "id": "de86dc12-9908-4bf8-b734-638f41fba1d7",
   "metadata": {},
   "outputs": [
    {
     "data": {
      "text/plain": [
       "array([2, 3, 0, 1])"
      ]
     },
     "execution_count": 8,
     "metadata": {},
     "output_type": "execute_result"
    }
   ],
   "source": [
    "np.random.shuffle(a)\n",
    "a"
   ]
  },
  {
   "cell_type": "code",
   "execution_count": 9,
   "id": "dde0af76-1f35-4497-b07c-a4f4470e808c",
   "metadata": {},
   "outputs": [
    {
     "data": {
      "text/plain": [
       "array([0.61759587, 0.72128014, 0.96727177, 0.96964732])"
      ]
     },
     "execution_count": 9,
     "metadata": {},
     "output_type": "execute_result"
    }
   ],
   "source": [
    "# You can sample random values from many common distributions, \n",
    "# including a multivariate normal distribution:\n",
    "# Beta distribution(alpha, beta, size)\n",
    "np.random.beta(1/2, 1/2, 4)\n"
   ]
  },
  {
   "cell_type": "code",
   "execution_count": 11,
   "id": "416c78a1-9db6-4281-b8fd-d3fe7aafc819",
   "metadata": {},
   "outputs": [
    {
     "data": {
      "text/plain": [
       "array([ 0.54572102,  2.02815969, -0.66108239])"
      ]
     },
     "execution_count": 11,
     "metadata": {},
     "output_type": "execute_result"
    }
   ],
   "source": [
    "np.random.standard_normal(size = 3)"
   ]
  },
  {
   "cell_type": "code",
   "execution_count": 12,
   "id": "002bde0e-38ff-47d4-a9b2-7dd8061fd71b",
   "metadata": {},
   "outputs": [
    {
     "data": {
      "text/plain": [
       "array([ 9.98903435,  9.97301433, 10.07523613,  9.99286129])"
      ]
     },
     "execution_count": 12,
     "metadata": {},
     "output_type": "execute_result"
    }
   ],
   "source": [
    "# Normal distribution(mean, standard dev, size)\n",
    "np.random.normal(10, 0.1, 4)"
   ]
  },
  {
   "cell_type": "code",
   "execution_count": 13,
   "id": "73479979-5033-434d-8bea-c51cbec9710e",
   "metadata": {},
   "outputs": [
    {
     "data": {
      "text/plain": [
       "array([[-0.0547197 ,  2.54885733],\n",
       "       [ 1.61727199,  1.67930533],\n",
       "       [ 0.41714231,  6.02581073]])"
      ]
     },
     "execution_count": 13,
     "metadata": {},
     "output_type": "execute_result"
    }
   ],
   "source": [
    "# Multivariate normal(vector of means, covariance matrix, size)\n",
    "mus = [1, 3] # vector of means\n",
    "cov = [[1, 0.3], [0.3, 1]] # covariance matrix\n",
    "np.random.multivariate_normal(mus, cov, 3)"
   ]
  },
  {
   "cell_type": "code",
   "execution_count": 14,
   "id": "7c0062bf-aeb9-4007-8ab3-14bfb4f242f3",
   "metadata": {},
   "outputs": [
    {
     "name": "stdout",
     "output_type": "stream",
     "text": [
      "[0.07308905]\n",
      "[0.71504234]\n"
     ]
    }
   ],
   "source": [
    "# An interesting fact about computers and random numbers: technically, these should be\n",
    "#called \\pseudo-random\" numbers, because they are actually generated using a deterministic|\n",
    "#yet complicated|algorithm. As we mentioned in earlier, the generation of these numbers\n",
    "#starts with a seed, which you can set to reproduce exactly the (random!) outcome of a\n",
    "#simulation. For example, if we sample two numbers from a uniform distribution:\n",
    "print(np.random.random(1))\n",
    "print(np.random.random(1))"
   ]
  },
  {
   "cell_type": "code",
   "execution_count": 15,
   "id": "bb736d2d-cad7-44ea-a577-c32747e6f49f",
   "metadata": {},
   "outputs": [
    {
     "name": "stdout",
     "output_type": "stream",
     "text": [
      "[0.77132064]\n",
      "[0.02075195]\n",
      "[0.77132064]\n",
      "[0.02075195]\n"
     ]
    }
   ],
   "source": [
    "# we should always observe different values. However, you can set the seed, and then re-start\n",
    "# the sequence of random numbers from the top:\n",
    "np.random.seed(10)\n",
    "print(np.random.random(1))\n",
    "print(np.random.random(1))\n",
    "np.random.seed(10)\n",
    "print(np.random.random(1))\n",
    "print(np.random.random(1))\n",
    "# This is useful in at least two cases. First, suppose that you are running a set \n",
    "# of simulations, but that every so often you incur an error. It is difficult to debug the code, as\n",
    "# the situation triggering the error is rare. In this case, you can set the seed to an arbitrary\n",
    "# number, run the simulation, and keep changing the number you use to seed the random\n",
    "# number generator until you are able to reproduce the problem. Now you can solve it, as you\n",
    "# can reproduce the error as many times as needed.\n",
    "# Setting a seed is also useful is when you are drawing figures. Suppose that you are\n",
    "# showing the results of simulations, and that you want to include a figure showing the results\n",
    "# in your paper. Then, you can set the seed to an arbitrary number, so that while you are\n",
    "# working on making the figure pretty and clear, re-running the code will yield exactly the\n",
    "# same results"
   ]
  },
  {
   "cell_type": "code",
   "execution_count": null,
   "id": "183c4a42-02cd-4374-ba40-0ba57ebf8367",
   "metadata": {},
   "outputs": [],
   "source": []
  }
 ],
 "metadata": {
  "kernelspec": {
   "display_name": "Python 3 (ipykernel)",
   "language": "python",
   "name": "python3"
  },
  "language_info": {
   "codemirror_mode": {
    "name": "ipython",
    "version": 3
   },
   "file_extension": ".py",
   "mimetype": "text/x-python",
   "name": "python",
   "nbconvert_exporter": "python",
   "pygments_lexer": "ipython3",
   "version": "3.11.5"
  }
 },
 "nbformat": 4,
 "nbformat_minor": 5
}
